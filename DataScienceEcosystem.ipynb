{
  "metadata": {
    "kernelspec": {
      "name": "python",
      "display_name": "Python (Pyodide)",
      "language": "python"
    },
    "language_info": {
      "codemirror_mode": {
        "name": "python",
        "version": 3
      },
      "file_extension": ".py",
      "mimetype": "text/x-python",
      "name": "python",
      "nbconvert_exporter": "python",
      "pygments_lexer": "ipython3",
      "version": "3.8"
    }
  },
  "nbformat_minor": 4,
  "nbformat": 4,
  "cells": [
    {
      "cell_type": "markdown",
      "source": "# Data Science Tools and Ecosystem",
      "metadata": {}
    },
    {
      "cell_type": "markdown",
      "source": "In this notebook, Data Science Tools and Ecosystem are summarized.",
      "metadata": {}
    },
    {
      "cell_type": "markdown",
      "source": "Some of the popular languages that Data Scientists use are:\n1. Python\n2. R\n3. C\n4. C++\n5. JAVA",
      "metadata": {}
    },
    {
      "cell_type": "markdown",
      "source": "# ***Some of the commonly used libraries used by Data Scientists include:***\n1. NumPy\n2. Pandas\n3. Matplotlib\n4. Seaborn\n5. SciPy",
      "metadata": {}
    },
    {
      "cell_type": "markdown",
      "source": "|Data Science Tools|\n|----------|\n|RStudio|\n|Apache Spark|\n|Jupyter Notebook|\n",
      "metadata": {}
    },
    {
      "cell_type": "markdown",
      "source": "### Below are a few examples of evaluating arithmetic expressions in Python",
      "metadata": {}
    },
    {
      "cell_type": "markdown",
      "source": "*This a simple arithmetic expression to mutiply then add integers*\n",
      "metadata": {}
    },
    {
      "cell_type": "code",
      "source": "(3*4)+5 ",
      "metadata": {
        "trusted": true
      },
      "outputs": [
        {
          "execution_count": 4,
          "output_type": "execute_result",
          "data": {
            "text/plain": "17"
          },
          "metadata": {}
        }
      ],
      "execution_count": 4
    },
    {
      "cell_type": "code",
      "source": "# Convert minutes to hours\nminutes = 200\nhours = minutes / 60\nhours",
      "metadata": {
        "trusted": true
      },
      "outputs": [
        {
          "execution_count": 5,
          "output_type": "execute_result",
          "data": {
            "text/plain": "3.3333333333333335"
          },
          "metadata": {}
        }
      ],
      "execution_count": 5
    },
    {
      "cell_type": "markdown",
      "source": "# **Objectives:**\n- Some of the popular languages that Data Scientists.\n- Some of the commonly used libraries used by Data Scientists.\n- Some of the commonly used libraries used by Data Scientists.\n- Examples of evaluating arithmetic expressions in Python.\n- How to convert minutes into hours.\n",
      "metadata": {}
    },
    {
      "cell_type": "markdown",
      "source": "## Author\nMohammad AlTawil",
      "metadata": {}
    },
    {
      "cell_type": "code",
      "source": "",
      "metadata": {
        "trusted": true
      },
      "outputs": [],
      "execution_count": null
    }
  ]
}